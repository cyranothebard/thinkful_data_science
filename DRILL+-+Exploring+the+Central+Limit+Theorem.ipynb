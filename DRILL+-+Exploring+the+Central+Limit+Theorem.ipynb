{
 "cells": [
  {
   "cell_type": "code",
   "execution_count": 1,
   "metadata": {
    "collapsed": true
   },
   "outputs": [],
   "source": [
    "import numpy as np\n",
    "import pandas as pd\n",
    "import scipy\n",
    "import matplotlib.pyplot as plt\n",
    "%matplotlib inline"
   ]
  },
  {
   "cell_type": "code",
   "execution_count": 2,
   "metadata": {},
   "outputs": [
    {
     "name": "stdout",
     "output_type": "stream",
     "text": [
      "The mean of sample1 is: 1.94\n",
      "The mean of sample2 is: 5.11\n",
      "The standard deviation of sample1 is: 1.2068139873236472\n",
      "The standard deviation of sample2 is: 1.4621559424356898\n"
     ]
    }
   ],
   "source": [
    "# generate two random binomial sample sets\n",
    "pop1 = np.random.binomial(10, 0.2, 10000)\n",
    "pop2 = np.random.binomial(10,0.5, 10000) \n",
    "# generate sample sets of both binomial populations\n",
    "sample1 = np.random.choice(pop1, 100, replace=True)\n",
    "sample2 = np.random.choice(pop2, 100, replace=True)\n",
    "# calculate and print mean\n",
    "print(\"The mean of sample1 is: {}\".format(sample1.mean()))\n",
    "print(\"The mean of sample2 is: {}\".format(sample2.mean()))\n",
    "# calculate and print stdev\n",
    "print(\"The standard deviation of sample1 is: {}\".format(sample1.std()))\n",
    "print(\"The standard deviation of sample2 is: {}\".format(sample2.std()))\n"
   ]
  },
  {
   "cell_type": "code",
   "execution_count": null,
   "metadata": {
    "collapsed": true
   },
   "outputs": [],
   "source": [
    "\"\"\"PREDICTION: If I increase the sample size the mean and standard deviation will behave more like a normal distribution.\n",
    "Conversely, if I decrease the sample size the standard deviation will increase.\"\"\""
   ]
  },
  {
   "cell_type": "code",
   "execution_count": 3,
   "metadata": {},
   "outputs": [
    {
     "name": "stdout",
     "output_type": "stream",
     "text": [
      "The mean of sample1_a is: 1.935\n",
      "The mean of sample2_a is: 4.983\n",
      "The standard deviation of sample1_a is: 1.2077975823787694\n",
      "The standard deviation of sample2_a is: 1.5945880345719392\n",
      "The mean of sample1_b is: 1.85\n",
      "The mean of sample2_b is: 4.9\n",
      "The standard deviation of sample1_b is: 1.1947803145348521\n",
      "The standard deviation of sample2_b is: 1.3\n"
     ]
    }
   ],
   "source": [
    "# generate sample set with n = 1000\n",
    "sample1_a = np.random.choice(pop1, 1000, replace=True)\n",
    "sample2_a = np.random.choice(pop2, 1000, replace=True)\n",
    "# calculate and print mean\n",
    "print(\"The mean of sample1_a is: {}\".format(sample1_a.mean()))\n",
    "print(\"The mean of sample2_a is: {}\".format(sample2_a.mean()))\n",
    "# calculate and print stdev\n",
    "print(\"The standard deviation of sample1_a is: {}\".format(sample1_a.std()))\n",
    "print(\"The standard deviation of sample2_a is: {}\".format(sample2_a.std()))\n",
    "# generate sample set with n = 20\n",
    "sample1_b = np.random.choice(pop1, 20, replace=True)\n",
    "sample2_b = np.random.choice(pop2, 20, replace=True)\n",
    "# calculate and print mean\n",
    "print(\"The mean of sample1_b is: {}\".format(sample1_b.mean()))\n",
    "print(\"The mean of sample2_b is: {}\".format(sample2_b.mean()))\n",
    "# calculate and print stdev\n",
    "print(\"The standard deviation of sample1_b is: {}\".format(sample1_b.std()))\n",
    "print(\"The standard deviation of sample2_b is: {}\".format(sample2_b.std()))\n"
   ]
  },
  {
   "cell_type": "code",
   "execution_count": 4,
   "metadata": {},
   "outputs": [
    {
     "data": {
      "text/plain": [
       "'REFLECTION: Decreasing the number of measurements decreased both the mean and stdev. Increasing the number of \\nmeasurements also decreased the mean and stdev, but not by as much as with the smaller number of measurements. This \\nbehavior did not match my intuition.'"
      ]
     },
     "execution_count": 4,
     "metadata": {},
     "output_type": "execute_result"
    }
   ],
   "source": [
    "\"\"\"REFLECTION: Decreasing the number of measurements decreased both the mean and stdev. Increasing the number of \n",
    "measurements also decreased the mean and stdev, but not by as much as with the smaller number of measurements. This \n",
    "behavior did not match my intuition.\"\"\""
   ]
  },
  {
   "cell_type": "code",
   "execution_count": null,
   "metadata": {
    "collapsed": true
   },
   "outputs": [],
   "source": [
    "\"\"\"PREDICTION: Increasing the p-value of pop1 will increase the p-value leading to an increased probability that \n",
    "difference in t-value is due to chance.\"\"\""
   ]
  },
  {
   "cell_type": "code",
   "execution_count": 5,
   "metadata": {},
   "outputs": [
    {
     "name": "stdout",
     "output_type": "stream",
     "text": [
      "Ttest_indResult(statistic=9.0088019580939029, pvalue=1.8201435207210435e-16)\n",
      "Ttest_indResult(statistic=3.6004220719707067, pvalue=0.00040270584398703532)\n"
     ]
    }
   ],
   "source": [
    "# generate two random binomial sample sets, pop1 p-value = 0.3\n",
    "pop1 = np.random.binomial(10, 0.3, 10000)\n",
    "pop2 = np.random.binomial(10,0.5, 10000) \n",
    "# generate sample sets of both binomial populations\n",
    "sample1 = np.random.choice(pop1, 100, replace=True)\n",
    "sample2 = np.random.choice(pop2, 100, replace=True)\n",
    "\n",
    "from scipy.stats import ttest_ind\n",
    "print(ttest_ind(sample2, sample1, equal_var=False))\n",
    "\n",
    "# generate two random binomial sample sets, pop1 p-value = 0.4\n",
    "pop1 = np.random.binomial(10, 0.4, 10000)\n",
    "pop2 = np.random.binomial(10,0.5, 10000) \n",
    "# generate sample sets of both binomial populations\n",
    "sample1 = np.random.choice(pop1, 100, replace=True)\n",
    "sample2 = np.random.choice(pop2, 100, replace=True)\n",
    "\n",
    "from scipy.stats import ttest_ind\n",
    "print(ttest_ind(sample2, sample1, equal_var=False))"
   ]
  },
  {
   "cell_type": "code",
   "execution_count": null,
   "metadata": {
    "collapsed": true
   },
   "outputs": [],
   "source": [
    "\"\"\"REFLECTION: My insticts were confirmed by the calculations showing an increase in the p-value of several \n",
    "degrees of magnitude.\"\"\""
   ]
  },
  {
   "cell_type": "code",
   "execution_count": null,
   "metadata": {
    "collapsed": true
   },
   "outputs": [],
   "source": [
    "\"\"\"PREDICTION: For another non-normal distribution the p-value will be smaller for larger sample sets.\"\"\""
   ]
  },
  {
   "cell_type": "code",
   "execution_count": 7,
   "metadata": {},
   "outputs": [
    {
     "name": "stdout",
     "output_type": "stream",
     "text": [
      "The mean of sample1_w is: 3.99\n",
      "The mean of sample2_w is: 5.24\n",
      "The standard deviation of sample1_w is: 1.4730580436629102\n",
      "The standard deviation of sample2_w is: 1.5173661390712527\n",
      "Ttest_indResult(statistic=3.6004220719707067, pvalue=0.00040270584398703532)\n",
      "The mean of sample1_w is: 4.022\n",
      "The mean of sample2_w is: 5.014\n",
      "The standard deviation of sample1_w is: 1.5236521912825116\n",
      "The standard deviation of sample2_w is: 1.5471922957409012\n",
      "Ttest_indResult(statistic=3.6004220719707067, pvalue=0.00040270584398703532)\n"
     ]
    }
   ],
   "source": [
    "# WEIBULL distribution test\n",
    "# generate two random weibull sample sets, pop1 p-value = 0.3\n",
    "pop1_w = np.random.weibull(10, 1000)\n",
    "pop2_w = np.random.weibull(10, 1000) \n",
    "# generate sample sets of both binomial populations\n",
    "sample1_w = np.random.choice(pop1, 100, replace=True)\n",
    "sample2_w = np.random.choice(pop2, 100, replace=True)\n",
    "# calculate and print mean\n",
    "print(\"The mean of sample1_w is: {}\".format(sample1_w.mean()))\n",
    "print(\"The mean of sample2_w is: {}\".format(sample2_w.mean()))\n",
    "# calculate and print stdev\n",
    "print(\"The standard deviation of sample1_w is: {}\".format(sample1_w.std()))\n",
    "print(\"The standard deviation of sample2_w is: {}\".format(sample2_w.std()))\n",
    "# ttest_ind\n",
    "from scipy.stats import ttest_ind\n",
    "print(ttest_ind(sample2, sample1, equal_var=False))\n",
    "\n",
    "# generate sample sets of both binomial populations\n",
    "# increase sample size to observe effect on ttest_ind\n",
    "sample1_w = np.random.choice(pop1, 1000, replace=True)\n",
    "sample2_w = np.random.choice(pop2, 1000, replace=True)\n",
    "# calculate and print mean\n",
    "print(\"The mean of sample1_w is: {}\".format(sample1_w.mean()))\n",
    "print(\"The mean of sample2_w is: {}\".format(sample2_w.mean()))\n",
    "# calculate and print stdev\n",
    "print(\"The standard deviation of sample1_w is: {}\".format(sample1_w.std()))\n",
    "print(\"The standard deviation of sample2_w is: {}\".format(sample2_w.std()))\n",
    "# ttest_ind\n",
    "from scipy.stats import ttest_ind\n",
    "print(ttest_ind(sample2, sample1, equal_var=False))"
   ]
  },
  {
   "cell_type": "code",
   "execution_count": null,
   "metadata": {
    "collapsed": true
   },
   "outputs": [],
   "source": [
    "\"\"\"REFLECTION: Neither the mean, nor the stdev of Weibull distribution sample set seem to be affected much by \n",
    "the size of the sample set. The ttest and pvalues are identical.\"\"\""
   ]
  }
 ],
 "metadata": {
  "kernelspec": {
   "display_name": "Python 3",
   "language": "python",
   "name": "python3"
  },
  "language_info": {
   "codemirror_mode": {
    "name": "ipython",
    "version": 3
   },
   "file_extension": ".py",
   "mimetype": "text/x-python",
   "name": "python",
   "nbconvert_exporter": "python",
   "pygments_lexer": "ipython3",
   "version": "3.6.2"
  }
 },
 "nbformat": 4,
 "nbformat_minor": 2
}
