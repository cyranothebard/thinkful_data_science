{
 "cells": [
  {
   "cell_type": "code",
   "execution_count": 1,
   "metadata": {
    "collapsed": true
   },
   "outputs": [],
   "source": [
    "# import necessary statistical modules\n",
    "import pandas as pd\n",
    "import numpy as np\n",
    "import matplotlib.pyplot as plt\n",
    "%matplotlib inline\n",
    "import statistics as stat"
   ]
  },
  {
   "cell_type": "code",
   "execution_count": 39,
   "metadata": {},
   "outputs": [
    {
     "name": "stdout",
     "output_type": "stream",
     "text": [
      "         0\n",
      "Greg    14\n",
      "Marcia  12\n",
      "Peter   11\n",
      "Jan     10\n",
      "Bobby    8\n",
      "Cindy    6\n",
      "Oliver   8\n"
     ]
    }
   ],
   "source": [
    "# set and display initial dataframe for kids' ages\n",
    "kids = pd.DataFrame([14, 12, 11, 10, 8, 6, 8])\n",
    "kids.index = ['Greg', 'Marcia', 'Peter', 'Jan', 'Bobby', 'Cindy', 'Oliver']\n",
    "print(kids)\n"
   ]
  },
  {
   "cell_type": "code",
   "execution_count": 40,
   "metadata": {},
   "outputs": [
    {
     "name": "stdout",
     "output_type": "stream",
     "text": [
      "The mean is: 0    9.857143\n",
      "dtype: float64\n",
      "The median is: 10.0\n",
      "The mode is: 0\n",
      "The calculated mode is: 8\n",
      "The variance is: 0    6.408163\n",
      "dtype: float64\n",
      "The standard deviation is: 0    2.734262\n",
      "dtype: float64\n",
      "The standard error is: 0    1.033454\n",
      "dtype: float64\n"
     ]
    }
   ],
   "source": [
    "# FIRST pass at statistical characterization\n",
    "   #measues of central tendency\n",
    "mean = np.mean(kids)\n",
    "median = np.median(kids)\n",
    "#mode = stat.mode(kids)\n",
    "   # calculating unique mode since stat.mode returns empty value\n",
    "(values, counts) = np.unique(kids, return_counts=True)\n",
    "ind = np.argmax(counts)\n",
    "mode2 = values[ind]\n",
    "   # measures of variance\n",
    "var = np.var(kids)\n",
    "stdev = np.std(kids, ddof = 1)\n",
    "st_er = stdev / np.sqrt(len(kids))\n",
    "   # print results\n",
    "print('The mean is: {}'.format(mean))\n",
    "print('The median is: {}'.format(median))\n",
    "print('The mode is: {}'.format(mode))\n",
    "print('The calculated mode is: {}'.format(mode2))\n",
    "print('The variance is: {}'.format(var))\n",
    "print('The standard deviation is: {}'.format(stdev))\n",
    "print('The standard error is: {}'.format(st_er))"
   ]
  },
  {
   "cell_type": "code",
   "execution_count": 41,
   "metadata": {},
   "outputs": [
    {
     "ename": "SyntaxError",
     "evalue": "EOL while scanning string literal (<ipython-input-41-ceb3c4280851>, line 3)",
     "output_type": "error",
     "traceback": [
      "\u001b[0;36m  File \u001b[0;32m\"<ipython-input-41-ceb3c4280851>\"\u001b[0;36m, line \u001b[0;32m3\u001b[0m\n\u001b[0;31m    to be highly significant outliers in the data set.\"\"\"\"\u001b[0m\n\u001b[0m                                                          \n^\u001b[0m\n\u001b[0;31mSyntaxError\u001b[0m\u001b[0;31m:\u001b[0m EOL while scanning string literal\n"
     ]
    }
   ],
   "source": [
    "\"\"\"\"If I had to choose one measure of central tendency and one measure of variance I would choose the mean and\n",
    "standard deviation. With these two numbers I can see how wide my data set is spread and how likely there are \n",
    "to be highly significant outliers in the data set.\"\"\"\""
   ]
  },
  {
   "cell_type": "code",
   "execution_count": 49,
   "metadata": {},
   "outputs": [
    {
     "name": "stdout",
     "output_type": "stream",
     "text": [
      "         0\n",
      "Greg    14\n",
      "Marcia  12\n",
      "Peter   11\n",
      "Jan     10\n",
      "Bobby    8\n",
      "Cindy    7\n",
      "Oliver   8\n"
     ]
    }
   ],
   "source": [
    "# Cindy has a birthday. Update dataframe.\n",
    "kids.loc['Cindy'] = 7\n",
    "print(kids)"
   ]
  },
  {
   "cell_type": "code",
   "execution_count": 50,
   "metadata": {},
   "outputs": [
    {
     "name": "stdout",
     "output_type": "stream",
     "text": [
      "The mean is: 0    10.0\n",
      "dtype: float64\n",
      "The median is: 10.0\n",
      "The mode is: 0\n",
      "The calculated mode is: 8\n",
      "The variance is: 0    5.428571\n",
      "dtype: float64\n",
      "The standard deviation is: 0    2.516611\n",
      "dtype: float64\n",
      "The standard error is: 0    0.95119\n",
      "dtype: float64\n"
     ]
    }
   ],
   "source": [
    "# SECOND pass at statistical characterization, after first dataframe update\n",
    "   #measues of central tendency\n",
    "mean = np.mean(kids)\n",
    "median = np.median(kids)\n",
    "mode = stat.mode(kids)\n",
    "   # calculating unique mode since stat.mode returns empty value\n",
    "(values, counts) = np.unique(kids, return_counts=True)\n",
    "ind = np.argmax(counts)\n",
    "mode2 = values[ind]\n",
    "   # measures of variance\n",
    "var = np.var(kids)\n",
    "stdev = np.std(kids, ddof = 1)\n",
    "st_er = stdev / np.sqrt(len(kids))\n",
    "   # print results\n",
    "print('The mean is: {}'.format(mean))\n",
    "print('The median is: {}'.format(median))\n",
    "print('The mode is: {}'.format(mode))\n",
    "print('The calculated mode is: {}'.format(mode2))\n",
    "print('The variance is: {}'.format(var))\n",
    "print('The standard deviation is: {}'.format(stdev))\n",
    "print('The standard error is: {}'.format(st_er))"
   ]
  },
  {
   "cell_type": "code",
   "execution_count": 56,
   "metadata": {},
   "outputs": [
    {
     "name": "stdout",
     "output_type": "stream",
     "text": [
      "         0\n",
      "Greg    14\n",
      "Marcia  12\n",
      "Peter   11\n",
      "Jan     10\n",
      "Bobby    8\n",
      "Cindy    7\n",
      "Oliver   1\n"
     ]
    }
   ],
   "source": [
    "# Oliver is replaced with Jessica, age 1\n",
    "kids.loc['Oliver'] = 1 \n",
    "print(kids)"
   ]
  },
  {
   "cell_type": "code",
   "execution_count": 57,
   "metadata": {},
   "outputs": [
    {
     "name": "stdout",
     "output_type": "stream",
     "text": [
      "The mean is: 0    9.0\n",
      "dtype: float64\n",
      "The median is: 10.0\n",
      "The mode is: 0\n",
      "The calculated mode is: 1\n",
      "The variance is: 0    15.428571\n",
      "dtype: float64\n",
      "The standard deviation is: 0    4.242641\n",
      "dtype: float64\n",
      "The standard error is: 0    1.603567\n",
      "dtype: float64\n"
     ]
    }
   ],
   "source": [
    "# THIRD pass at statistical characterization, after second dataframe update\n",
    "   #measues of central tendency\n",
    "mean = np.mean(kids)\n",
    "median = np.median(kids)\n",
    "mode = stat.mode(kids)\n",
    "   # calculating unique mode since stat.mode returns empty value\n",
    "(values, counts) = np.unique(kids, return_counts=True)\n",
    "ind = np.argmax(counts)\n",
    "mode2 = values[ind]\n",
    "   # measures of variance\n",
    "var = np.var(kids)\n",
    "stdev = np.std(kids, ddof = 1)\n",
    "st_er = stdev / np.sqrt(len(kids))\n",
    "   # print results\n",
    "print('The mean is: {}'.format(mean))\n",
    "print('The median is: {}'.format(median))\n",
    "print('The mode is: {}'.format(mode))\n",
    "print('The calculated mode is: {}'.format(mode2))\n",
    "print('The variance is: {}'.format(var))\n",
    "print('The standard deviation is: {}'.format(stdev))\n",
    "print('The standard error is: {}'.format(st_er))"
   ]
  },
  {
   "cell_type": "code",
   "execution_count": 58,
   "metadata": {},
   "outputs": [
    {
     "data": {
      "text/plain": [
       "'This does not change my choice of central tendency and variance measurements as I still can get a feel for \\nthe kind of distribution I have in my sample set. With a higher standard deviation I know I am likely to have some highly\\nsignificant outliers in my data set.'"
      ]
     },
     "execution_count": 58,
     "metadata": {},
     "output_type": "execute_result"
    }
   ],
   "source": [
    "\"\"\"This does not change my choice of central tendency and variance measurements as I still can get a feel for \n",
    "the kind of distribution I have in my sample set. With a higher standard deviation I know I am likely to have some highly\n",
    "significant outliers in my data set.\"\"\""
   ]
  },
  {
   "cell_type": "code",
   "execution_count": 60,
   "metadata": {},
   "outputs": [
    {
     "name": "stdout",
     "output_type": "stream",
     "text": [
      "The mean of the survey set is: 16.25\n"
     ]
    }
   ],
   "source": [
    "# create survey set\n",
    "survey = [20, 23, 17, 5]\n",
    "mean = np.mean(survey)\n",
    "print('The mean of the survey set is: {}'.format(mean))"
   ]
  },
  {
   "cell_type": "code",
   "execution_count": null,
   "metadata": {
    "collapsed": true
   },
   "outputs": [],
   "source": []
  }
 ],
 "metadata": {
  "kernelspec": {
   "display_name": "Python 3",
   "language": "python",
   "name": "python3"
  },
  "language_info": {
   "codemirror_mode": {
    "name": "ipython",
    "version": 3
   },
   "file_extension": ".py",
   "mimetype": "text/x-python",
   "name": "python",
   "nbconvert_exporter": "python",
   "pygments_lexer": "ipython3",
   "version": "3.6.2"
  }
 },
 "nbformat": 4,
 "nbformat_minor": 2
}
